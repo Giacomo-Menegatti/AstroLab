{
 "cells": [
  {
   "cell_type": "markdown",
   "metadata": {},
   "source": [
    "# Random forest estimator"
   ]
  },
  {
   "cell_type": "code",
   "execution_count": 5,
   "metadata": {},
   "outputs": [],
   "source": [
    "import pandas as pd \n",
    "import numpy as np \n",
    "import matplotlib.pyplot as plt \n",
    "import seaborn as sns \n",
    "import regex as re\n",
    "\n",
    "\n",
    "import time\n",
    "from sklearn.ensemble import RandomForestClassifier\n",
    "from sklearn.model_selection import train_test_split\n",
    "from sklearn.tree import plot_tree\n",
    "from sklearn.inspection import permutation_importance\n"
   ]
  },
  {
   "cell_type": "markdown",
   "metadata": {},
   "source": [
    "## Loading the dataset\n",
    "The dataset is divided in files depending on the CE efficiency $ \\alpha $ and the metallicity $ Z $ of the two stars. All the data are loaded into a pandas dataframe containing also the two parameters.\n"
   ]
  },
  {
   "cell_type": "code",
   "execution_count": 6,
   "metadata": {},
   "outputs": [
    {
     "name": "stdout",
     "output_type": "stream",
     "text": [
      "Data columns: \n",
      "  ['ID' 'm1ZAMS' 'm2ZAMS' 'm1rem' 'm2rem' 'm1rem+m2rem' 'delay_time' 'sma'\n",
      " 'ecc' 'kick' 'kick' 'cmu1' 'cmu2' 'v1x' 'v1y' 'v1z' 'v2x' 'v2y' 'v2z'\n",
      " 'time_SN1' 'time_SN2' 'CE' 'alpha' 'Z']\n"
     ]
    }
   ],
   "source": [
    "\n",
    "alpha = [0.5, 1, 3, 5] # CE efficiency\n",
    "Z = [2e-4, 4e-4, 8e-4, 1.2e-3, 1.6e-3, 2e-3, 4e-3, 6e-3, 8e-3, 1.2e-2, 1.6e-2, 2e-2]  #Metallicity value\n",
    "\n",
    "data = [] #Data list \n",
    "\n",
    "sim_data = pd.DataFrame({'alpha':[], 'Z':[], 'MtotZAMS':[], 'num_mergers':[]})\n",
    "#Appending all the values in a single big dataframe\n",
    "\n",
    "index = 0\n",
    "for a in alpha:\n",
    "  for m in Z:\n",
    "    # The simulation data first row contains the MtotZAMS and the number of merger for each alpha and metallicity \n",
    "    df = pd.read_csv(f'stable_MT_vs_CE/A{a}/MTCE_BBHs_{m}.txt', sep=' ', nrows = 1, header=0) \n",
    "    sim_data.loc[index] = [a, m, df.iloc[0,0], df.iloc[0,1]]  #Adding the row to the sim_data df\n",
    "    index = index + 1 \n",
    "\n",
    "    df = pd.read_csv(f'stable_MT_vs_CE/A{a}/MTCE_BBHs_{m}.txt', header=2, sep= ' ')     # Simulation data\n",
    "    df['alpha'],df['Z'] = a, m                                 #Adding the alpha and Z paramtere in the table\n",
    "    \n",
    "    data.append(df)\n",
    "\n",
    "data = pd.concat(data)\n",
    "# Cleaning the column names using regex: sub substitutes with '' all strings that matches the first regex\n",
    "# that starts from col, has any (.) char repeated any times (*) until :, and (|) from / any char, any times to the end of line $\n",
    "data.columns = [re.sub('col.*:|/.*$', '', name) for name in data.columns]\n",
    "print('Data columns: \\n ', data.columns.values)\n"
   ]
  },
  {
   "cell_type": "code",
   "execution_count": 7,
   "metadata": {},
   "outputs": [
    {
     "name": "stdout",
     "output_type": "stream",
     "text": [
      "There are 2551001 BBHs evolving from common envelope, and 412581 BBHs evolving from mass transfer\n"
     ]
    }
   ],
   "source": [
    "CE_data = data.query('CE == True')\n",
    "MT_data = data.query('CE == False')\n",
    "\n",
    "\n",
    "print(f'There are {CE_data.shape[0]} BBHs evolving from common envelope, and {MT_data.shape[0]} BBHs evolving from mass transfer')\n"
   ]
  },
  {
   "cell_type": "code",
   "execution_count": 8,
   "metadata": {},
   "outputs": [],
   "source": [
    "data_to_ML = data.copy()\n",
    "\n",
    "x = data_to_ML[['m1ZAMS', 'm2ZAMS','m1rem','m2rem','delay_time','sma']]\n",
    "#x = data.drop(columns=['ID', 'CE'])\n",
    "y = data_to_ML['CE']\n",
    "\n",
    "# split data into training and test set\n",
    "# for now: 10% of data as training set\n",
    "X_train, X_test, y_train, y_test = train_test_split(x, y, stratify=y, test_size=0.9, random_state=100)\n"
   ]
  },
  {
   "cell_type": "code",
   "execution_count": 9,
   "metadata": {},
   "outputs": [
    {
     "name": "stdout",
     "output_type": "stream",
     "text": [
      "Training time: 34.45 s\n",
      "Training accuracy:  1.0\n",
      "Test accuracy:  0.9971273503837698\n"
     ]
    }
   ],
   "source": [
    "# initialise random forest classifier\n",
    "# using n_jobs=-1 saves quite a bit of time (~80s with vs ~430s without)\n",
    "clf = RandomForestClassifier(random_state=0, n_jobs=-1)\n",
    "\n",
    "# train random forest\n",
    "# let's time this for fun\n",
    "ts = time.time()\n",
    "clf.fit(X_train, y_train)\n",
    "print(\"Training time: %.2f s\"%(time.time()-ts))\n",
    "\n",
    "# evaluate training & test accuracy\n",
    "train_acc = clf.score(X_train, y_train)\n",
    "test_acc = clf.score(X_test, y_test)\n",
    "print(\"Training accuracy: \", train_acc)\n",
    "print(\"Test accuracy: \", test_acc)\n"
   ]
  },
  {
   "cell_type": "code",
   "execution_count": 10,
   "metadata": {},
   "outputs": [
    {
     "data": {
      "image/png": "[encoded data removed]",
      "text/plain": [
       "<Figure size 640x480 with 1 Axes>"
      ]
     },
     "metadata": {},
     "output_type": "display_data"
    }
   ],
   "source": [
    "# save params + importances to dataframe\n",
    "importances = pd.DataFrame(zip(clf.feature_names_in_, clf.feature_importances_),\n",
    "                           columns=[\"param\", \"gini\"])\n",
    "\n",
    "# sort importances\n",
    "#importances = importances.sort_values(by=\"gini\", ascending= False)\n",
    "\n",
    "# plot importances\n",
    "fig, ax = plt.subplots()\n",
    "sns.barplot(y='param', x='gini', data=importances, ax=ax)\n",
    "#ax.tick_params(axis='x', rotation=90) #for params on x and gini on y\n",
    "ax.set_ylabel('')\n",
    "ax.set_xlabel('Gini importance')\n",
    "plt.show()\n"
   ]
  }
 ],
 "metadata": {
  "kernelspec": {
   "display_name": "Python 3",
   "language": "python",
   "name": "python3"
  },
  "language_info": {
   "codemirror_mode": {
    "name": "ipython",
    "version": 3
   },
   "file_extension": ".py",
   "mimetype": "text/x-python",
   "name": "python",
   "nbconvert_exporter": "python",
   "pygments_lexer": "ipython3",
   "version": "3.10.12"
  }
 },
 "nbformat": 4,
 "nbformat_minor": 2
}
