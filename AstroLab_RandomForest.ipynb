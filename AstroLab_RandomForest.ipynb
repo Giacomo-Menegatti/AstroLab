{
 "cells": [
  {
   "cell_type": "markdown",
   "metadata": {},
   "source": [
    "# Random forest estimator"
   ]
  },
  {
   "cell_type": "code",
   "execution_count": 1,
   "metadata": {},
   "outputs": [],
   "source": [
    "import pandas as pd \n",
    "import numpy as np \n",
    "import matplotlib.pyplot as plt \n",
    "import seaborn as sns \n",
    "import regex as re\n"
   ]
  },
  {
   "cell_type": "markdown",
   "metadata": {},
   "source": [
    "## Loading the dataset\n",
    "The dataset is divided in files depending on the CE efficiency $ \\alpha $ and the metallicity $ Z $ of the two stars. All the data are loaded into a pandas dataframe containing also the two parameters.\n"
   ]
  },
  {
   "cell_type": "code",
   "execution_count": 2,
   "metadata": {},
   "outputs": [
    {
     "name": "stdout",
     "output_type": "stream",
     "text": [
      "Data columns: \n",
      "  ['ID' 'm1ZAMS' 'm2ZAMS' 'm1rem' 'm2rem' 'm1rem+m2rem' 'delay_time' 'sma'\n",
      " 'ecc' 'kick' 'kick' 'cmu1' 'cmu2' 'v1x' 'v1y' 'v1z' 'v2x' 'v2y' 'v2z'\n",
      " 'time_SN1' 'time_SN2' 'CE' 'alpha' 'Z']\n"
     ]
    }
   ],
   "source": [
    "\n",
    "alpha = [0.5, 1, 3, 5] # CE efficiency\n",
    "Z = [2e-4, 4e-4, 8e-4, 1.2e-3, 1.6e-3, 2e-3, 4e-3, 6e-3, 8e-3, 1.2e-2, 1.6e-2, 2e-2]  #Metallicity value\n",
    "\n",
    "data = [] #Data list \n",
    "\n",
    "sim_data = pd.DataFrame({'alpha':[], 'Z':[], 'MtotZAMS':[], 'num_mergers':[]})\n",
    "#Appending all the values in a single big dataframe\n",
    "\n",
    "index = 0\n",
    "for a in [alpha[0]]:\n",
    "  for m in [Z[0]]:\n",
    "    # The simulation data first row contains the MtotZAMS and the number of merger for each alpha and metallicity \n",
    "    df = pd.read_csv(f'stable_MT_vs_CE/A{a}/MTCE_BBHs_{m}.txt', sep=' ', nrows = 1, header=0) \n",
    "    sim_data.loc[index] = [a, m, df.iloc[0,0], df.iloc[0,1]]  #Adding the row to the sim_data df\n",
    "    index = index + 1 \n",
    "\n",
    "    df = pd.read_csv(f'stable_MT_vs_CE/A{a}/MTCE_BBHs_{m}.txt', header=2, sep= ' ')     # Simulation data\n",
    "    df['alpha'],df['Z'] = a, m                                 #Adding the alpha and Z paramtere in the table\n",
    "    \n",
    "    data.append(df)\n",
    "\n",
    "data = pd.concat(data)\n",
    "# Cleaning the column names using regex: sub substitutes with '' all strings that matches the fisrt regex\n",
    "# that starts from col, has any (.) char repeated any times (*) until :, and (|) from / any char, any times to the end of line $\n",
    "data.columns = [re.sub('col.*:|/.*$', '', name) for name in data.columns]\n",
    "print('Data columns: \\n ', data.columns.values)\n"
   ]
  },
  {
   "cell_type": "code",
   "execution_count": 3,
   "metadata": {},
   "outputs": [
    {
     "name": "stdout",
     "output_type": "stream",
     "text": [
      "There are 44084 BBHs evolving from common envelope, and 23757 BBHs evolving from mass transfer\n"
     ]
    }
   ],
   "source": [
    "CE_data = data.query('CE == True')\n",
    "MT_data = data.query('CE == False')\n",
    "\n",
    "\n",
    "print(f'There are {CE_data.shape[0]} BBHs evolving from common envelope, and {MT_data.shape[0]} BBHs evolving from mass transfer')\n"
   ]
  },
  {
   "cell_type": "code",
   "execution_count": 13,
   "metadata": {},
   "outputs": [
    {
     "data": {
      "text/plain": [
       "array([ True,  True, False, ...,  True,  True,  True])"
      ]
     },
     "execution_count": 13,
     "metadata": {},
     "output_type": "execute_result"
    }
   ],
   "source": [
    "from sklearn.ensemble import RandomForestClassifier\n",
    "\n",
    "X = data[['m1ZAMS', 'm2ZAMS']].to_numpy()\n",
    "Y = data['CE'].to_numpy()\n"
   ]
  }
 ],
 "metadata": {
  "kernelspec": {
   "display_name": "Python 3",
   "language": "python",
   "name": "python3"
  },
  "language_info": {
   "codemirror_mode": {
    "name": "ipython",
    "version": 3
   },
   "file_extension": ".py",
   "mimetype": "text/x-python",
   "name": "python",
   "nbconvert_exporter": "python",
   "pygments_lexer": "ipython3",
   "version": "3.10.12"
  }
 },
 "nbformat": 4,
 "nbformat_minor": 2
}
