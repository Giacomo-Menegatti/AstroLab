{
 "cells": [
  {
   "cell_type": "markdown",
   "metadata": {},
   "source": [
    "# AstroLab master file\n",
    "## The one file to rule them all"
   ]
  },
  {
   "cell_type": "markdown",
   "metadata": {},
   "source": [
    "# Binary Black holes mergers evolution\n",
    "\n",
    "Giacomo Menegatti, Dario Puggioni, Laura Schulze, Savina Tsichli \n",
    "\n",
    " \n",
    "The objective of this work is to analize the simulation data provided to find which of the alazide feature is more useful in predicting if the star system evolves by common envelope or by mass transfer"
   ]
  },
  {
   "cell_type": "code",
   "execution_count": 1,
   "metadata": {},
   "outputs": [],
   "source": [
    "#Loading all the necessary libraries\n",
    "\n",
    "import pandas as pd \n",
    "import numpy as np \n",
    "import matplotlib.pyplot as plt \n",
    "import seaborn as sns \n",
    "import regex as re\n"
   ]
  },
  {
   "cell_type": "markdown",
   "metadata": {},
   "source": [
    "The data in the file \"stable_MT_vs_CE\" are divided in folders and files by the efficiency alpha of mass transfer and the metallicity Z of the sta binary system. We groupe all data in a single dataset"
   ]
  },
  {
   "cell_type": "code",
   "execution_count": 2,
   "metadata": {},
   "outputs": [
    {
     "name": "stdout",
     "output_type": "stream",
     "text": [
      "Data columns: \n",
      "  ['ID' 'm1ZAMS' 'm2ZAMS' 'm1rem' 'm2rem' 'm1rem+m2rem' 'delay_time' 'sma'\n",
      " 'ecc' 'kick_1' 'kick_2' 'cmu1' 'cmu2' 'v1x' 'v1y' 'v1z' 'v2x' 'v2y' 'v2z'\n",
      " 'time_SN1' 'time_SN2' 'CE' 'alpha' 'Z']\n"
     ]
    }
   ],
   "source": [
    "alpha = [0.5, 1, 3, 5] # CE efficiencies\n",
    "Z = [2e-4, 4e-4, 8e-4, 1.2e-3, 1.6e-3, 2e-3, 4e-3, 6e-3, 8e-3, 1.2e-2, 1.6e-2, 2e-2]  #Metallicity value\n",
    "\n",
    "data = [] #Data list \n",
    "\n",
    "sim_data = pd.DataFrame({'alpha':[], 'Z':[], 'MtotZAMS':[], 'num_mergers':[]})\n",
    "#Appending all the values in a single big dataframe\n",
    "\n",
    "index = 0\n",
    "for a in alpha:\n",
    "    for m in Z:\n",
    "        # The simulation data first row contains the MtotZAMS and the number of merger for each alpha and metallicity \n",
    "\n",
    "        df = pd.read_csv(f'stable_MT_vs_CE/A{a}/MTCE_BBHs_{m}.txt', sep=' ', nrows = 1, header=0) \n",
    "        sim_data.loc[index] = [a, m, df.iloc[0,0], df.iloc[0,1]]  #Adding the row to the sim_data df\n",
    "        index = index + 1 \n",
    "    \n",
    "        df = pd.read_csv(f'stable_MT_vs_CE/A{a}/MTCE_BBHs_{m}.txt', header=2, sep= ' ')     # Simulation data\n",
    "        df['alpha'],df['Z'] = a, m                                 #Adding the alpha and Z parameter in the table\n",
    "        \n",
    "        data.append(df)\n",
    "\n",
    "data = pd.concat(data)\n",
    "# Clearing the units of measure and the column number from the data\n",
    "data.columns = [re.sub('col.*:|/.*$', '', name) for name in data.columns]\n",
    "\n",
    "data.columns.values[9], data.columns.values[10]  = 'kick_1', 'kick_2' #The kick columns were distinguished by the column index before\n",
    "\n",
    "print('Data columns: \\n ', data.columns.values)\n",
    "data.reset_index(drop=True,inplace=True)\n"
   ]
  },
  {
   "cell_type": "markdown",
   "metadata": {},
   "source": [
    "Now we separate the system evolved from Common Envelope and from Mass Transfer"
   ]
  },
  {
   "cell_type": "code",
   "execution_count": 3,
   "metadata": {},
   "outputs": [
    {
     "name": "stdout",
     "output_type": "stream",
     "text": [
      "There are 2551001 BBHs evolving from common envelope, and 412581 BBHs evolving from mass transfer\n"
     ]
    }
   ],
   "source": [
    "CE_data = data.query('CE == True')\n",
    "MT_data = data.query('CE == False')\n",
    "print(f'There are {CE_data.shape[0]} systems evolving from common envelope, and {MT_data.shape[0]} systems evolving from mass transfer')\n"
   ]
  }
 ],
 "metadata": {
  "kernelspec": {
   "display_name": "Python 3",
   "language": "python",
   "name": "python3"
  },
  "language_info": {
   "codemirror_mode": {
    "name": "ipython",
    "version": 3
   },
   "file_extension": ".py",
   "mimetype": "text/x-python",
   "name": "python",
   "nbconvert_exporter": "python",
   "pygments_lexer": "ipython3",
   "version": "3.10.12"
  }
 },
 "nbformat": 4,
 "nbformat_minor": 2
}
