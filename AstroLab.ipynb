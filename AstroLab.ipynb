{
 "cells": [
  {
   "cell_type": "markdown",
   "metadata": {},
   "source": [
    "# Black hole mergers project\n",
    "\n",
    "Giacomo Menegatti, Dario Puggioni, Laura Schulze, Savina Tsichli"
   ]
  },
  {
   "cell_type": "code",
   "execution_count": 19,
   "metadata": {},
   "outputs": [],
   "source": [
    "import pandas as pd \n",
    "import numpy as np \n",
    "import matplotlib.pyplot as plt \n"
   ]
  },
  {
   "cell_type": "code",
   "execution_count": 20,
   "metadata": {},
   "outputs": [
    {
     "name": "stdout",
     "output_type": "stream",
     "text": [
      ".:\n",
      "AstroLab.ipynb\tstable_MT_vs_CE\n",
      "\n",
      "./stable_MT_vs_CE:\n",
      "A0.5  A1  A3  A5\n",
      "\n",
      "./stable_MT_vs_CE/A0.5:\n",
      "MTCE_BBHs_0.0002.txt  MTCE_BBHs_0.0016.txt  MTCE_BBHs_0.008.txt\n",
      "MTCE_BBHs_0.0004.txt  MTCE_BBHs_0.002.txt   MTCE_BBHs_0.012.txt\n",
      "MTCE_BBHs_0.0008.txt  MTCE_BBHs_0.004.txt   MTCE_BBHs_0.016.txt\n",
      "MTCE_BBHs_0.0012.txt  MTCE_BBHs_0.006.txt   MTCE_BBHs_0.02.txt\n",
      "\n",
      "./stable_MT_vs_CE/A1:\n",
      "MTCE_BBHs_0.0002.txt  MTCE_BBHs_0.0016.txt  MTCE_BBHs_0.008.txt\n",
      "MTCE_BBHs_0.0004.txt  MTCE_BBHs_0.002.txt   MTCE_BBHs_0.012.txt\n",
      "MTCE_BBHs_0.0008.txt  MTCE_BBHs_0.004.txt   MTCE_BBHs_0.016.txt\n",
      "MTCE_BBHs_0.0012.txt  MTCE_BBHs_0.006.txt   MTCE_BBHs_0.02.txt\n",
      "\n",
      "./stable_MT_vs_CE/A3:\n",
      "MTCE_BBHs_0.0002.txt  MTCE_BBHs_0.0016.txt  MTCE_BBHs_0.008.txt\n",
      "MTCE_BBHs_0.0004.txt  MTCE_BBHs_0.002.txt   MTCE_BBHs_0.012.txt\n",
      "MTCE_BBHs_0.0008.txt  MTCE_BBHs_0.004.txt   MTCE_BBHs_0.016.txt\n",
      "MTCE_BBHs_0.0012.txt  MTCE_BBHs_0.006.txt   MTCE_BBHs_0.02.txt\n",
      "\n",
      "./stable_MT_vs_CE/A5:\n",
      "MTCE_BBHs_0.0002.txt  MTCE_BBHs_0.0016.txt  MTCE_BBHs_0.008.txt\n",
      "MTCE_BBHs_0.0004.txt  MTCE_BBHs_0.002.txt   MTCE_BBHs_0.012.txt\n",
      "MTCE_BBHs_0.0008.txt  MTCE_BBHs_0.004.txt   MTCE_BBHs_0.016.txt\n",
      "MTCE_BBHs_0.0012.txt  MTCE_BBHs_0.006.txt   MTCE_BBHs_0.02.txt\n"
     ]
    }
   ],
   "source": [
    "! ls -R\n"
   ]
  },
  {
   "cell_type": "code",
   "execution_count": 21,
   "metadata": {},
   "outputs": [
    {
     "data": {
      "text/html": [
       "<div>\n",
       "<style scoped>\n",
       "    .dataframe tbody tr th:only-of-type {\n",
       "        vertical-align: middle;\n",
       "    }\n",
       "\n",
       "    .dataframe tbody tr th {\n",
       "        vertical-align: top;\n",
       "    }\n",
       "\n",
       "    .dataframe thead th {\n",
       "        text-align: right;\n",
       "    }\n",
       "</style>\n",
       "<table border=\"1\" class=\"dataframe\">\n",
       "  <thead>\n",
       "    <tr style=\"text-align: right;\">\n",
       "      <th></th>\n",
       "      <th>col.0:</th>\n",
       "      <th>MtotZAMS/Msun</th>\n",
       "      <th>Unnamed: 2</th>\n",
       "      <th>col.1:num</th>\n",
       "      <th>mergers</th>\n",
       "    </tr>\n",
       "  </thead>\n",
       "  <tbody>\n",
       "    <tr>\n",
       "      <th>0</th>\n",
       "      <td>4.304914e+08</td>\n",
       "      <td>274</td>\n",
       "      <td>NaN</td>\n",
       "      <td>NaN</td>\n",
       "      <td>NaN</td>\n",
       "    </tr>\n",
       "  </tbody>\n",
       "</table>\n",
       "</div>"
      ],
      "text/plain": [
       "         col.0:  MtotZAMS/Msun  Unnamed: 2  col.1:num  mergers\n",
       "0  4.304914e+08            274         NaN        NaN      NaN"
      ]
     },
     "execution_count": 21,
     "metadata": {},
     "output_type": "execute_result"
    }
   ],
   "source": [
    "alpha = [0.5, 1, 3, 5] # Alpha constants of the CE\n",
    "metallicity = [2e-4, 4e-4, 8e-4, 1.2e-3, 1.6e-3, 2e-3, 4e-3, 6e-3, 8e-3, 1.2e-2, 1.6e-2, 2e-2]  #Metallicity value\n",
    "\n",
    "a = alpha[0]\n",
    "m = metallicity[-1]\n",
    "\n",
    "data = pd.read_csv(f'stable_MT_vs_CE/A{a}/MTCE_BBHs_{m}.txt', sep=' ', nrows = 1, header=0) # All data\n",
    "data.head()\n"
   ]
  },
  {
   "cell_type": "raw",
   "metadata": {},
   "source": [
    "data = []\n",
    "#Appending all the values in a single big dataframe\n",
    "\n",
    "for a in alpha:\n",
    "  for m in metallicity:\n",
    "    df = pd.read_csv(f'stable_MT_vs_CE/A{a}/MTCE_BBHs_{m}.txt', header=2, sep= ' ') # All data\n",
    "    df['alpha'] = a\n",
    "    df['metallicity'] = m\n",
    "    data.append(df)\n",
    "\n",
    "data = pd.concat(data)\n"
   ]
  },
  {
   "cell_type": "code",
   "execution_count": null,
   "metadata": {},
   "outputs": [],
   "source": [
    "\n",
    "data.head()\n",
    "data.info()\n"
   ]
  }
 ],
 "metadata": {
  "kernelspec": {
   "display_name": "Python 3",
   "language": "python",
   "name": "python3"
  },
  "language_info": {
   "codemirror_mode": {
    "name": "ipython",
    "version": 3
   },
   "file_extension": ".py",
   "mimetype": "text/x-python",
   "name": "python",
   "nbconvert_exporter": "python",
   "pygments_lexer": "ipython3",
   "version": "3.10.12"
  }
 },
 "nbformat": 4,
 "nbformat_minor": 2
}
