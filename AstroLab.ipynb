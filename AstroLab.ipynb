{
 "cells": [
  {
   "cell_type": "markdown",
   "metadata": {},
   "source": [
    "# Binary stars evolutions and binary black holes\n",
    "\n",
    "Giacomo Menegatti, Dario Puggioni, Laura Schulze, Savina Tsichli"
   ]
  },
  {
   "cell_type": "code",
   "execution_count": 1,
   "metadata": {},
   "outputs": [],
   "source": [
    "import pandas as pd \n",
    "import numpy as np \n",
    "import matplotlib.pyplot as plt \n"
   ]
  },
  {
   "cell_type": "markdown",
   "metadata": {},
   "source": [
    "## Loading the dataset\n",
    "The dataset is divided in files depending on the CE efficiency $ \\alpha $ and the metallicity $ Z $ of the two stars. All the data are loaded into a pandas dataframe containing also the two parameters.\n"
   ]
  },
  {
   "cell_type": "code",
   "execution_count": 8,
   "metadata": {},
   "outputs": [
    {
     "name": "stdout",
     "output_type": "stream",
     "text": [
      "Data columns: \n",
      "  ['ID' 'm1ZAMS/Msun' 'm2ZAMS/Msun' 'm1rem/Msun' 'm2rem/Msun'\n",
      " 'm1rem+m2rem/Msun' 'delay_time/Myr' 'sma/Rsun' 'ecc' 'kick/kms'\n",
      " 'kick/kms' 'cmu1' 'cmu2' 'v1x/kms' 'v1y/kms' 'v1z/kms' 'v2x/kms'\n",
      " 'v2y/kms' 'v2z/kms' 'time_SN1/Myr' 'time_SN2/Myr' 'CE' 'alpha' 'Z']\n"
     ]
    }
   ],
   "source": [
    "\n",
    "alpha = [0.5, 1, 3, 5] # CE efficiency\n",
    "Z = [2e-4, 4e-4, 8e-4, 1.2e-3, 1.6e-3, 2e-3, 4e-3, 6e-3, 8e-3, 1.2e-2, 1.6e-2, 2e-2]  #Metallicity value\n",
    "\n",
    "data = [] #Data list \n",
    "\n",
    "sim_data = pd.DataFrame({'alpha':[], 'Z':[], 'MtotZAMS':[], 'num_mergers':[]})\n",
    "#Appending all the values in a single big dataframe\n",
    "\n",
    "index = 0\n",
    "for a in alpha:\n",
    "  for m in Z:\n",
    "    # The simulation data first row contains the MtotZAMS and the number of merger for each alpha and metallicity \n",
    "    df = pd.read_csv(f'stable_MT_vs_CE/A{a}/MTCE_BBHs_{m}.txt', sep=' ', nrows = 1, header=0) \n",
    "    sim_data.loc[index] = [a, m, df.iloc[0,0], df.iloc[0,1]]  #Adding the row to the sim_data df\n",
    "    index = index + 1 \n",
    "\n",
    "    df = pd.read_csv(f'stable_MT_vs_CE/A{a}/MTCE_BBHs_{m}.txt', header=2, sep= ' ')     # Simulation data\n",
    "    df['alpha'],df['Z'] = a, m                                 #Adding the alpha and Z paramtere in the table\n",
    "    \n",
    "    data.append(df)\n",
    "\n",
    "data = pd.concat(data)\n",
    "data.columns = [name[name.find(':')+1:] for name in data.columns] #The data header are col.i: this deletes the first part\n",
    "print('Data columns: \\n ', data.columns.values)\n"
   ]
  },
  {
   "cell_type": "code",
   "execution_count": 10,
   "metadata": {},
   "outputs": [],
   "source": [
    "CE_data = data[data['CE']==True]\n",
    "MT_data = data[data['CE']==False]\n",
    "print(f'There are {CE_data.row}')\n"
   ]
  }
 ],
 "metadata": {
  "kernelspec": {
   "display_name": "Python 3",
   "language": "python",
   "name": "python3"
  },
  "language_info": {
   "codemirror_mode": {
    "name": "ipython",
    "version": 3
   },
   "file_extension": ".py",
   "mimetype": "text/x-python",
   "name": "python",
   "nbconvert_exporter": "python",
   "pygments_lexer": "ipython3",
   "version": "3.10.12"
  }
 },
 "nbformat": 4,
 "nbformat_minor": 2
}
