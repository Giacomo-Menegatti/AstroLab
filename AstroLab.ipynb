{
 "cells": [
  {
   "cell_type": "markdown",
   "metadata": {},
   "source": [
    "# Binary stars evolutions and binary black holes\n",
    "\n",
    "Giacomo Menegatti, Dario Puggioni, Laura Schulze, Savina Tsichli"
   ]
  },
  {
   "cell_type": "code",
   "execution_count": null,
   "metadata": {},
   "outputs": [],
   "source": [
    "import pandas as pd \n",
    "import numpy as np \n",
    "import matplotlib.pyplot as plt \n",
    "import seaborn as sns \n",
    "import regex as re\n",
    "from scipy.stats import pointbiserialr, spearmanr\n"
   ]
  },
  {
   "cell_type": "markdown",
   "metadata": {},
   "source": [
    "## Loading the dataset\n",
    "The dataset is divided in files depending on the CE efficiency $ \\alpha $ and the metallicity $ Z $ of the two stars. All the data are loaded into a pandas dataframe containing also the two parameters.\n"
   ]
  },
  {
   "cell_type": "code",
   "execution_count": null,
   "metadata": {},
   "outputs": [],
   "source": [
    "alpha = [0.5, 1, 3, 5] # CE efficiency\n",
    "Z = [2e-4, 4e-4, 8e-4, 1.2e-3, 1.6e-3, 2e-3, 4e-3, 6e-3, 8e-3, 1.2e-2, 1.6e-2, 2e-2]  #Metallicity value\n",
    "\n",
    "data = [] #Data list \n",
    "\n",
    "sim_data = pd.DataFrame({'alpha':[], 'Z':[], 'MtotZAMS':[], 'num_mergers':[]})\n",
    "#Appending all the values in a single big dataframe\n",
    "\n",
    "index = 0\n",
    "for a in alpha:\n",
    "    for m in Z:\n",
    "        # The simulation data first row contains the MtotZAMS and the number of merger for each alpha and metallicity \n",
    "        df = pd.read_csv(f'stable_MT_vs_CE/A{a}/MTCE_BBHs_{m}.txt', sep=' ', nrows = 1, header=0) \n",
    "        sim_data.loc[index] = [a, m, df.iloc[0,0], df.iloc[0,1]]  #Adding the row to the sim_data df\n",
    "        index = index + 1 \n",
    "    \n",
    "        df = pd.read_csv(f'stable_MT_vs_CE/A{a}/MTCE_BBHs_{m}.txt', header=2, sep= ' ')     # Simulation data\n",
    "        df['alpha'],df['Z'] = a, m                                 #Adding the alpha and Z paramtere in the table\n",
    "        \n",
    "        data.append(df)\n",
    "\n",
    "data = pd.concat(data)\n",
    "data.columns = [re.sub('col.*:|/.*$', '', name) for name in data.columns]\n"
   ]
  },
  {
   "cell_type": "code",
   "execution_count": null,
   "metadata": {},
   "outputs": [],
   "source": [
    "data.columns.values[9] = 'kick_1'\n",
    "data.columns.values[10] = 'kick_2'\n",
    "\n",
    "print('Data columns: \\n ', data.columns.values)\n",
    "data.reset_index(drop=True,inplace=True)\n",
    "data\n"
   ]
  },
  {
   "cell_type": "code",
   "execution_count": null,
   "metadata": {},
   "outputs": [],
   "source": [
    "CE_data = data.query('CE == True')\n",
    "MT_data = data.query('CE == False')\n",
    "print(f'CE_data shape={CE_data.shape}, MT_data shape={MT_data.shape}')\n",
    "\n",
    "print(f'There are {CE_data.shape[0]} BBHs evolving from common envelope, and {MT_data.shape[0]} BBHs evolving from mass transfer')\n",
    "s_data = data.sample(n=150000, random_state=42)  # A smaller datafreme picking random data, 150k rows above 2.96 millions\n",
    "s_CE_data = s_data.query('CE == True')\n",
    "s_MT_data = s_data.query('CE == False')\n"
   ]
  },
  {
   "cell_type": "code",
   "execution_count": null,
   "metadata": {},
   "outputs": [],
   "source": [
    "#sns.scatterplot(data.query('alpha==0.5 and Z == 2e-4'), x='m1rem/Msun', y='m2rem/Msun', hue = 'CE', markers='.')\n",
    "\n"
   ]
  },
  {
   "cell_type": "code",
   "execution_count": null,
   "metadata": {},
   "outputs": [],
   "source": [
    "numeric_columns = [col for col in data.columns if col != 'CE' and col != 'ID']\n",
    "\n",
    "correlation_df = pd.DataFrame(columns=['Feature', 'Spearman_Correlation','Biserial_Correlation'])\n",
    "correlation_data = []\n",
    "for column in numeric_columns:\n",
    "    spearman_corr, _ = spearmanr(data['CE'], data[column])\n",
    "    biserial_corr, _ = pointbiserialr(data['CE'], data[column])\n",
    "    correlation_data.append({'Feature':column,'Spearman_Correlation':spearman_corr,'Biserial_Correlation':biserial_corr})\n",
    "correlation_df = pd.DataFrame(correlation_data)\n",
    "correlation_df\n",
    "\n",
    "#I don't know well these two parameters, but the Spearman correlation is used to see how tho continues variables correlate monotonically\n",
    "#It ranges in the interval [-1,+1], where -1 indicates a perfect decrescent correlation, 0 indicates no correlation and +1 indicates \n",
    "#a perfect crescent correlation. But we don't have two continues variables, so I adapted with values 0 and 1. The biserial correlation\n",
    "#is more specific for our case, but maybe it works only for a correlation of the linear type, but I don't know what does it mean in the binary case,\n",
    "#so maybe the biserial_correlation is more correct. Anyway these two statisctical indicators give us similar values.\n"
   ]
  },
  {
   "cell_type": "code",
   "execution_count": null,
   "metadata": {},
   "outputs": [],
   "source": [
    "numeric_columns = [col for col in data.columns if col != 'CE' and col != 'ID']\n",
    "fig, axs = plt.subplots(nrows=11, ncols=2, figsize=(12, 40))\n",
    "for i, col in enumerate(numeric_columns):\n",
    "    ax = axs[i//2, i%2] \n",
    "    data[data.CE == True][col].hist(bins=20, color='blue', alpha=0.5, label='CE True', ax=ax)\n",
    "    data[data.CE == False][col].hist(bins=20, color='orange', alpha=0.5, label='CE False', ax=ax)\n",
    "    ax.grid(None)\n",
    "    ax.legend(loc='best')\n",
    "    ax.set_xlabel(col)\n",
    "    ax.set_title(f'{col},     biserial correlation = {correlation_df.Biserial_Correlation[i]:.4f}')\n",
    "\n",
    "\n",
    "plt.tight_layout()\n",
    "plt.show()\n",
    "\n",
    "##For example, for column m1ZAMS, the biserial correlation is ~-0.46. In the histogram we see that lower values favor the condition 'True', \n",
    "#while higher value favor the condition 'False'. For the column 'v1z' the biserial correlation is ~0.0003, that means no correlation. We can see \n",
    "#in the histogram that data are equally distributed for both conditions.\n"
   ]
  }
 ],
 "metadata": {
  "kernelspec": {
   "display_name": "Python 3 (ipykernel)",
   "language": "python",
   "name": "python3"
  },
  "language_info": {
   "codemirror_mode": {
    "name": "ipython",
    "version": 3
   },
   "file_extension": ".py",
   "mimetype": "text/x-python",
   "name": "python",
   "nbconvert_exporter": "python",
   "pygments_lexer": "ipython3",
   "version": "3.10.12"
  }
 },
 "nbformat": 4,
 "nbformat_minor": 4
}
